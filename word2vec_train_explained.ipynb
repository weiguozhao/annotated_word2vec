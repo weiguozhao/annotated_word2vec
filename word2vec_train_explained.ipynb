{
 "cells": [
  {
   "cell_type": "markdown",
   "metadata": {},
   "source": [
    "### Abstract"
   ]
  },
  {
   "cell_type": "markdown",
   "metadata": {},
   "source": [
    "This article gives a detailed explanation of the weight vector updates in word2vec C implementation.\n",
    "\n",
    "And find some not correct procedures that used train skip-gram model in the code."
   ]
  },
  {
   "cell_type": "markdown",
   "metadata": {},
   "source": [
    "### Introduction"
   ]
  },
  {
   "cell_type": "markdown",
   "metadata": {},
   "source": [
    "Word2vec is a famous word embeddings approch. See detailed at [Word2vec](https://en.wikipedia.org/wiki/Word2vec)"
   ]
  },
  {
   "cell_type": "markdown",
   "metadata": {},
   "source": [
    "### Prerequisite"
   ]
  },
  {
   "cell_type": "markdown",
   "metadata": {},
   "source": [
    "#### some properties of sigmoid function"
   ]
  },
  {
   "cell_type": "markdown",
   "metadata": {},
   "source": [
    "(0)\n",
    "\n",
    "$$\n",
    "\\sigma' (y) = \\sigma (y) \\cdot [ 1 - \\sigma (y) ] \\cdot y'\n",
    "$$"
   ]
  },
  {
   "cell_type": "markdown",
   "metadata": {},
   "source": [
    "##### visualize a property of sigmoid function"
   ]
  },
  {
   "cell_type": "markdown",
   "metadata": {},
   "source": [
    "$$\n",
    "\\frac {1} {N} \\sum_{i=1}^{N} \\sigma(x_i) \\approx\n",
    "\\sigma( \\frac {1} {N} \\sum_{i=1}^{N} x_i )\n",
    "$$"
   ]
  },
  {
   "cell_type": "markdown",
   "metadata": {},
   "source": [
    "I can't prove it, my major is not math"
   ]
  },
  {
   "cell_type": "code",
   "execution_count": 70,
   "metadata": {
    "collapsed": false
   },
   "outputs": [
    {
     "name": "stdout",
     "output_type": "stream",
     "text": [
      "Populating the interactive namespace from numpy and matplotlib\n"
     ]
    },
    {
     "data": {
      "image/png": "[encoded data removed]",
      "text/plain": [
       "<matplotlib.figure.Figure at 0x7fa8db84d940>"
      ]
     },
     "metadata": {},
     "output_type": "display_data"
    },
    {
     "data": {
      "image/png": "[encoded data removed]",
      "text/plain": [
       "<matplotlib.figure.Figure at 0x7fa8d90f6e10>"
      ]
     },
     "metadata": {},
     "output_type": "display_data"
    }
   ],
   "source": [
    "%pylab inline --no-import-all\n",
    "\n",
    "import numpy as np\n",
    "\n",
    "x = np.random.randn(1000, 100)\n",
    "\n",
    "m = np.mean(x, axis=1)\n",
    "\n",
    "def sigmoid(a):\n",
    "    return 1.0 / (1 + np.exp(-a))\n",
    "\n",
    "m_s = sigmoid(m)\n",
    "\n",
    "m_x_s = np.mean(sigmoid(x), axis=1)\n",
    "\n",
    "plt.scatter(m_x_s, m_s)\n",
    "plt.show()\n",
    "plt.plot(m_x_s, m_s)\n",
    "plt.show()"
   ]
  },
  {
   "cell_type": "markdown",
   "metadata": {},
   "source": [
    "### hierarchical softmax"
   ]
  },
  {
   "cell_type": "markdown",
   "metadata": {},
   "source": [
    "(1)\n",
    "$$ p(w | w_I) = \\prod_{j=1}^{L(w)-1} \\sigma \\left( [\\![ n(w, j+1) = ch(n(w, j)) ]\\!] \\cdot {v'_{n(w, j)}}^T v_{w_I} \n",
    "\\right) $$"
   ]
  },
  {
   "cell_type": "markdown",
   "metadata": {},
   "source": [
    "#### the hierarchical softmax gradient"
   ]
  },
  {
   "cell_type": "markdown",
   "metadata": {},
   "source": [
    "First let\n",
    "\n",
    "$$\n",
    "hs_j = [\\![ n(w, j+1) = ch(n(w, j)) ]\\!] \\cdot {v'_{n(w, j)}}^T v_{w_I}\n",
    "$$"
   ]
  },
  {
   "cell_type": "markdown",
   "metadata": {},
   "source": [
    "And\n",
    "\n",
    "$$\n",
    "\\frac {d hs_j} {v'_{n(w, j)}} = [\\![ n(w, j+1) = ch(n(w, j)) ]\\!] \\cdot v_{w_I}\n",
    "$$\n",
    "\n",
    "$$\n",
    "\\frac {d hs_j} {v_{w_I}} = [\\![ n(w, j+1) = ch(n(w, j)) ]\\!] \\cdot v'_{n(w, j)}\n",
    "$$"
   ]
  },
  {
   "cell_type": "markdown",
   "metadata": {},
   "source": [
    "Then\n",
    "$$\n",
    "\\nabla \\log p(w | w_I) = \\sum_{j=1}^{L(w)-1} \\frac{1} {\\sigma (hs_j)} \\cdot \\sigma' (hs_j) \\cdot hs'_j\n",
    "$$\n",
    "\n",
    "According to equation (0)\n",
    "$$\n",
    "\\nabla \\log p(w | w_I) = \\sum_{j=1}^{L(w)-1}\n",
    "\\frac{1} {\\sigma (hs_j)}\n",
    "\\cdot\n",
    "\\sigma (hs_j) \\cdot [ 1 - \\sigma (hs_j) ]\n",
    "\\cdot\n",
    "hs'_j\n",
    "$$\n",
    "\n",
    "simplify\n",
    "$$\n",
    "\\nabla \\log p(w | w_I) = \\sum_{j=1}^{L(w)-1}\n",
    "[ 1 - \\sigma (hs_j) ] \\cdot hs'_j\n",
    "$$"
   ]
  },
  {
   "cell_type": "markdown",
   "metadata": {},
   "source": [
    "When update $ v_{w_I} $, we got gradient is:\n",
    "\n",
    "$$\n",
    "\\nabla \\log p(w | w_I) = \\sum_{j=1}^{L(w)-1}\n",
    "[ 1 - \\sigma (hs_j) ] \\cdot\n",
    "[\\![ n(w, j+1) = ch(n(w, j)) ]\\!]\n",
    "\\cdot v'_{n(w, j)}\n",
    "$$"
   ]
  },
  {
   "cell_type": "markdown",
   "metadata": {},
   "source": [
    "When update $ v'_{n(w, j)}$ for each $j \\in [1, L(w)-1]$, we got gradient is:\n",
    "\n",
    "$$\n",
    "\\nabla \\log p(w | w_I) = [ 1 - \\sigma (hs_j) ]\n",
    "\\cdot\n",
    "[\\![ n(w, j+1) = ch(n(w, j)) ]\\!]\n",
    "\\cdot\n",
    "v_{w_I}\n",
    "$$"
   ]
  },
  {
   "cell_type": "markdown",
   "metadata": {},
   "source": [
    "### negative sampling"
   ]
  },
  {
   "cell_type": "markdown",
   "metadata": {},
   "source": [
    "(2)\n",
    "$$\n",
    "\\log p(w_O | w_I) = \\log \\sigma( {v'_{w_O}}^T v_{w_I} ) + \n",
    "\\sum_{i}^{k} E_{w_i \\sim P_n(w)}\n",
    "\\left[\n",
    "\\log \\sigma( {-v'_{w_i}}^T v_{w_I} )\n",
    "\\right]\n",
    "$$"
   ]
  },
  {
   "cell_type": "markdown",
   "metadata": {},
   "source": [
    "#### the negative sampling gradient"
   ]
  },
  {
   "cell_type": "markdown",
   "metadata": {},
   "source": [
    "First let\n",
    "\n",
    "$$\n",
    "ns_{xI} = {v'_{w_x}}^T \\cdot v_{w_I}\n",
    "$$\n",
    "\n",
    "$w_x \\in \\{ w_O, w_i \\sim P_n(w) \\}$"
   ]
  },
  {
   "cell_type": "markdown",
   "metadata": {},
   "source": [
    "And\n",
    "\n",
    "the gradients $ns_{xI}$ according to ${v'_{w_x}}$ and $v_{w_I}$ are:\n",
    "\n",
    "$$\n",
    "\\frac {d ns_{xI}} {v'_{w_x}} = v_{w_I}\n",
    "$$\n",
    "\n",
    "$$\n",
    "\\frac {d ns_{xI}} {v_{w_I}} = v'_{w_x}\n",
    "$$"
   ]
  },
  {
   "cell_type": "markdown",
   "metadata": {},
   "source": [
    "Then\n",
    "\n",
    "$$\n",
    "\\nabla \\log p(w_O | w_I) = \\frac {1} { \\sigma(ns_{OI}) }\n",
    "\\cdot\n",
    "\\sigma'(ns_{OI})\n",
    "\\cdot\n",
    "ns'_{OI}\n",
    "+\n",
    "\\sum_{i}^{k} E_{w_i \\sim P_n(w)}\n",
    "\\left[\n",
    "\\frac {1} { \\sigma(-ns_{iI}) } \\cdot\n",
    "\\sigma'( -ns_{iI} ) \\cdot\n",
    "-ns'_{iI}\n",
    "\\right]\n",
    "$$"
   ]
  },
  {
   "cell_type": "markdown",
   "metadata": {},
   "source": [
    "According to equation (0)\n",
    "\n",
    "$$\n",
    "\\nabla \\log p(w_O | w_I) = \\frac {1} { \\sigma(ns_{OI}) }\n",
    "\\cdot\n",
    "\\sigma(ns_{OI}) \\cdot [ 1 - \\sigma(ns_{OI}) ]\n",
    "\\cdot\n",
    "ns'_{OI}\n",
    "+\n",
    "\\sum_{i}^{k} E_{w_i \\sim P_n(w)}\n",
    "\\left[\n",
    "\\frac {1} { \\sigma(-ns_{iI}) } \\cdot\n",
    "\\sigma ( -ns_{iI} ) \\cdot\n",
    "[ 1 - \\sigma(-ns_{iI}) ] \\cdot\n",
    "-ns'_{iI}\n",
    "\\right]\n",
    "$$"
   ]
  },
  {
   "cell_type": "markdown",
   "metadata": {},
   "source": [
    "simplify\n",
    "\n",
    "$$\n",
    "\\nabla \\log p(w_O | w_I) = [ 1 - \\sigma(ns_{OI}) ] \\cdot ns'_{OI}\n",
    "+\n",
    "\\sum_{i}^{k} E_{w_i \\sim P_n(w)}\n",
    "\\left[\n",
    "[ 1 - \\sigma(-ns_{iI}) ] \\cdot\n",
    "-ns'_{iI}\n",
    "\\right]\n",
    "$$"
   ]
  },
  {
   "cell_type": "markdown",
   "metadata": {},
   "source": [
    "When update $ v'_{w_O} $, we got gradient is:\n",
    "\n",
    "$$\n",
    "\\nabla \\log p(w_O | w_I) = [ 1 - \\sigma(ns_{OI}) ] \\cdot v_{w_I}\n",
    "$$\n",
    "\n",
    "When update $ v_{w_I} $, we got gradient is:\n",
    "\n",
    "$$\n",
    "\\nabla \\log p(w_O | w_I) = [ 1 - \\sigma(ns_{OI}) ] \\cdot v'_{w_O}\n",
    "+\n",
    "\\sum_{i}^{k} E_{w_i \\sim P_n(w)}\n",
    "\\left[\n",
    "[ 1 - \\sigma(-ns_{iI}) ] \\cdot\n",
    "-v'_{w_i}\n",
    "\\right]\n",
    "$$\n",
    "\n",
    "When update $ v'_{w_i}, w_i \\sim P_n{w} $, we got gradient is:\n",
    "\n",
    "$$\n",
    "\\nabla \\log p(w_O | w_I) = [ 1 - \\sigma(-ns_{iI}) ] \\cdot -v_{w_I}\n",
    "$$"
   ]
  },
  {
   "cell_type": "markdown",
   "metadata": {},
   "source": [
    "### continuous bag of words"
   ]
  },
  {
   "cell_type": "code",
   "execution_count": 8,
   "metadata": {
    "collapsed": false
   },
   "outputs": [
    {
     "data": {
      "image/png": "[encoded data removed]",
      "text/plain": [
       "<IPython.core.display.Image object>"
      ]
     },
     "execution_count": 8,
     "metadata": {},
     "output_type": "execute_result"
    }
   ],
   "source": [
    "from IPython.display import Image\n",
    "c\n",
    "Image(\"./cbow.png\")"
   ]
  },
  {
   "cell_type": "markdown",
   "metadata": {},
   "source": [
    "#### maximize the following average log probability:"
   ]
  },
  {
   "cell_type": "markdown",
   "metadata": {},
   "source": [
    "(3)\n",
    "$$ \\frac{1}{T} \\sum_{t=1}^{T} \\sum_{-c \\leq{j} \\leq{c},j\\neq{0}} \\log{p(w_t | w_{t+j})} $$"
   ]
  },
  {
   "cell_type": "markdown",
   "metadata": {},
   "source": [
    "I change the index $j$ to index $q$ due to conflict with index $j$ in hierarchical softmax.\n",
    "\n",
    "(3)\n",
    "$$ \\frac{1}{T} \\sum_{t=1}^{T} \\sum_{-c \\leq{q} \\leq{c},q\\neq{0}} \\log{p(w_t | w_{t+q})} $$"
   ]
  },
  {
   "cell_type": "markdown",
   "metadata": {},
   "source": [
    "And\n",
    "\n",
    "$$\n",
    "\\nabla \\sum_{-c \\leq{q} \\leq{c},q\\neq{0}} \\log{p(w_t | w_{t+q})} = \\sum_{-c \\leq{q} \\leq{c},q\\neq{0}}\n",
    "\\nabla \\log{p(w_t | w_{t+q})}\n",
    "$$"
   ]
  },
  {
   "cell_type": "markdown",
   "metadata": {},
   "source": [
    "#### First compute the mean of window wods vector"
   ]
  },
  {
   "cell_type": "markdown",
   "metadata": {},
   "source": [
    "Let \n",
    "$$\n",
    "v_{mcw} = \\frac{1}  {cw}\n",
    "\\sum_{-c \\leq{q} \\leq{c},q\\neq{0}}\n",
    "v_{w_{t+q}}\n",
    "$$"
   ]
  },
  {
   "cell_type": "markdown",
   "metadata": {},
   "source": [
    "```c\n",
    "      // window word count\n",
    "      cw = 0;\n",
    "      for (a = b; a < window * 2 + 1 - b; a++) if (a != window) {\n",
    "        // sentence_position is sp\n",
    "        // c in [sp - (window - b), sp + (window - b)]\n",
    "        c = sentence_position - window + a;\n",
    "        if (c < 0) continue;\n",
    "        // may be is break?\n",
    "        // because c is increase\n",
    "        if (c >= sentence_length) continue;\n",
    "        last_word = sen[c];\n",
    "        if (last_word == -1) continue;\n",
    "        // sum window words' vectors\n",
    "        for (c = 0; c < layer1_size; c++) neu1[c] += syn0[c + last_word * layer1_size];\n",
    "        cw++;\n",
    "      }\n",
    "      \n",
    "      if (cw) {\n",
    "        for (c = 0; c < layer1_size; c++) neu1[c] /= cw;\n",
    "        // ...\n",
    "```\n",
    "\n",
    "*`\"neu1\"` is $v_{mcw}$*"
   ]
  },
  {
   "cell_type": "markdown",
   "metadata": {},
   "source": [
    "#### when using hierarchical softmax"
   ]
  },
  {
   "cell_type": "markdown",
   "metadata": {},
   "source": [
    "$w_t$ is $w$, $w_{t+q}$ is $w_I$ in equation(1)"
   ]
  },
  {
   "cell_type": "markdown",
   "metadata": {},
   "source": [
    "And\n",
    "\n",
    "$$\n",
    "hs_j = [\\![ n(w_t, j+1) = ch(n(w_t, j)) ]\\!] \\cdot {v'_{n(w_t, j)}}^T v_{w_{t+q}}\n",
    "$$\n",
    "\n",
    "$q \\in [-c, c], q\\neq{0}$"
   ]
  },
  {
   "cell_type": "markdown",
   "metadata": {},
   "source": [
    "Then\n",
    "\n",
    "When update $ v_{w_{t+q}}$ for each $q \\in [-c, c], q\\neq{0}$, we got gradient is:\n",
    "\n",
    "$$\n",
    "\\nabla \\log p(w_t | w_{t+q}) = \\sum_{j=1}^{L(w_t)-1}\n",
    "[ 1 - \\sigma (hs_j) ] \\cdot\n",
    "[\\![ n(w_t, j+1) = ch(n(w_t, j)) ]\\!]\n",
    "\\cdot v'_{n(w_t, j)}\n",
    "$$\n",
    "\n",
    "$$\n",
    "\\nabla \\sum_{-c \\leq{q} \\leq{c},q\\neq{0}} \\log{p(w_t | w_{t+q})} =\n",
    "\\nabla \\log p(w_t | w_{t+q})\n",
    "$$"
   ]
  },
  {
   "cell_type": "markdown",
   "metadata": {},
   "source": [
    "When update $ v'_{n(w_t, j)}$ for each $j \\in [1, L(w_t)-1]$, we got gradient is:\n",
    "\n",
    "$$\n",
    "\\nabla \\log p(w_t | w_{t+q}) = [ 1 - \\sigma (hs_j) ]\n",
    "\\cdot\n",
    "[\\![ n(w_t, j+1) = ch(n(w_t, j)) ]\\!]\n",
    "\\cdot\n",
    "v_{w_{t+q}}\n",
    "$$\n",
    "\n",
    "$$\n",
    "\\nabla \\sum_{-c \\leq{q} \\leq{c},q\\neq{0}} \\log{p(w_t | w_{t+q})} = \\sum_{-c \\leq{q} \\leq{c},q\\neq{0}}\n",
    "[ 1 - \\sigma (hs_j) ]\n",
    "\\cdot\n",
    "[\\![ n(w_t, j+1) = ch(n(w_t, j)) ]\\!]\n",
    "\\cdot\n",
    "v_{w_{t+q}}\n",
    "$$"
   ]
  },
  {
   "cell_type": "markdown",
   "metadata": {},
   "source": [
    "```c\n",
    "        if (hs) for (d = 0; d < vocab[word].codelen; d++) {\n",
    "          f = 0;\n",
    "          l2 = vocab[word].point[d] * layer1_size;\n",
    "          // l2 is index j in equation\n",
    "\n",
    "          // Propagate hidden -> output\n",
    "          for (c = 0; c < layer1_size; c++) f += neu1[c] * syn1[c + l2];\n",
    "          // f is +- hs_j\n",
    "          if (f <= -MAX_EXP) continue;\n",
    "          else if (f >= MAX_EXP) continue;\n",
    "          // approximation\n",
    "          // may be round is better\n",
    "          else f = expTable[(int)((f + MAX_EXP) * (EXP_TABLE_SIZE / MAX_EXP / 2))];\n",
    "          // 'g' is the gradient multiplied by the learning rate\n",
    "          // why sub code[d]?\n",
    "          // another sigmoid property\n",
    "          // \\sigma(x) = 1 - \\sigma(-x)\n",
    "          // code[d] is 0 or 1\n",
    "          g = (1 - vocab[word].code[d] - f) * alpha;\n",
    "          // Propagate errors output -> hidden\n",
    "          for (c = 0; c < layer1_size; c++) neu1e[c] += g * syn1[c + l2];\n",
    "          // Learn weights hidden -> output\n",
    "          for (c = 0; c < layer1_size; c++) syn1[c + l2] += g * neu1[c];\n",
    "        }\n",
    "```"
   ]
  },
  {
   "cell_type": "markdown",
   "metadata": {},
   "source": [
    "From the code We can see that, she or he uses $v_{mcw}$ in place of $v_{w_{t+q}}$\n",
    "\n",
    "$$\n",
    "hs_j = [\\![ n(w_t, j+1) = ch(n(w_t, j)) ]\\!] \\cdot {v'_{n(w_t, j)}}^T v_{mcw}\n",
    "$$"
   ]
  },
  {
   "cell_type": "markdown",
   "metadata": {},
   "source": [
    "`\"syn1[l2]\"` is $v'_{n(w_t, j)}$, then `\"f\"` in the above code before `\"expTable\"`\n",
    "is $\\pm hs_j$.\n",
    "\n",
    "And $[ 1 - \\sigma (hs_j) ] \\cdot\n",
    "[\\![ n(w_t, j+1) = ch(n(w_t, j)) ]\\!]$ is `\"1 - vocab[word].code[d] - f\"` after `\"expTable\"`, because of the equation:\n",
    "\n",
    "$$\n",
    "\\sigma(x) = 1 - \\sigma(-x)\n",
    "$$\n",
    "\n",
    "So `\"vocab[word].code[d] == 0\"` for $[\\![ n(w_t, j+1) = ch(n(w_t, j)) ]\\!] = +1$,\n",
    "\n",
    "and `\"vocab[word].code[d] == 1\"` for $[\\![ n(w_t, j+1) = ch(n(w_t, j)) ]\\!] = -1$,"
   ]
  },
  {
   "cell_type": "markdown",
   "metadata": {},
   "source": [
    "```python\n",
    "for (c = 0; c < layer1_size; c++) neu1e[c] += g * syn1[c + l2];\n",
    "```\n",
    "caculates the gradient of $ v_{w_{t+q}} $ for each $q \\in [-c, c], q\\neq{0}$\n",
    "\n",
    "After `for loop \"neu1e\"` is the added weight vector for each $v_{w_{t+q}}$."
   ]
  },
  {
   "cell_type": "markdown",
   "metadata": {},
   "source": [
    "And the gradient of $ v'_{n(w_t, j)}$ for each $j \\in [1, L(w_t)-1]$ is caculated as:\n",
    "\n",
    "$$\n",
    "\\nabla \\sum_{-c \\leq{q} \\leq{c},q\\neq{0}} \\log{p(w_t | w_{t+q})} = cw \\cdot\n",
    "[ 1 - \\sigma (hs_j) ]\n",
    "\\cdot\n",
    "[\\![ n(w_t, j+1) = ch(n(w_t, j)) ]\\!]\n",
    "\\cdot\n",
    "v_{mcw}\n",
    "$$\n"
   ]
  },
  {
   "cell_type": "markdown",
   "metadata": {},
   "source": [
    "The code doesn't multiply cw.\n",
    "```python\n",
    "for (c = 0; c < layer1_size; c++) syn1[c + l2] += g * neu1[c];\n",
    "```\n",
    "update the $v'_{n(w_t, j)}$ weight vector."
   ]
  },
  {
   "cell_type": "markdown",
   "metadata": {},
   "source": [
    "#### when using negative sampling"
   ]
  },
  {
   "cell_type": "markdown",
   "metadata": {},
   "source": [
    "$w_t is\\, w_O$, $w_{t+q} is\\, w_I$ in equation(2)"
   ]
  },
  {
   "cell_type": "markdown",
   "metadata": {},
   "source": [
    "And\n",
    "\n",
    "$$\n",
    "ns_{x(t+q)} = {v'_{w_x}}^T \\cdot v_{w_{t+q}}\n",
    "$$\n",
    "\n",
    "$w_x \\in \\{ w_t, w_i \\sim P_n(w) \\}$, $q \\in [-c, c], q\\neq{0}$"
   ]
  },
  {
   "cell_type": "markdown",
   "metadata": {},
   "source": [
    "Then\n",
    "\n",
    "When update $ v'_{w_t} $, we got gradient is:\n",
    "\n",
    "$$\n",
    "\\nabla \\log p(w_t | w_{t+q}) = [ 1 - \\sigma(ns_{t(t+q)}) ] \\cdot v_{w_{t+q}}\n",
    "$$\n",
    "\n",
    "$$\n",
    "\\nabla \\sum_{-c \\leq{q} \\leq{c},q\\neq{0}} \\log{p(w_t | w_{t+q})} = \\sum_{-c \\leq{q} \\leq{c},q\\neq{0}}\n",
    "[ 1 - \\sigma(ns_{t(t+q)}) ] \\cdot v_{w_{t+q}}\n",
    "$$"
   ]
  },
  {
   "cell_type": "markdown",
   "metadata": {},
   "source": [
    "When update $ v'_{w_i}, w_i \\sim P_n{w} $, we got gradient is:\n",
    "\n",
    "$$\n",
    "\\nabla \\log p(w_t | w_{t+q}) = [ 1 - \\sigma(-ns_{i(t+q)}) ] \\cdot -v_{w_{t+q}}\n",
    "$$\n",
    "\n",
    "$$\n",
    "\\nabla \\sum_{-c \\leq{q} \\leq{c},q\\neq{0}} \\log{p(w_t | w_{t+q})} = \\sum_{-c \\leq{q} \\leq{c},q\\neq{0}}\n",
    "[ 1 - \\sigma(-ns_{i(t+q)}) ] \\cdot -v_{w_{t+q}}\n",
    "$$"
   ]
  },
  {
   "cell_type": "markdown",
   "metadata": {},
   "source": [
    "When update $ v_{w_{t+q}} $ for each $q \\in [-c, c], q\\neq{0}$, we got gradient is:\n",
    "\n",
    "$$\n",
    "\\nabla \\log p(w_t | w_{t+q}) = [ 1 - \\sigma(ns_{t(t+q)}) ] \\cdot v'_{w_t}\n",
    "+\n",
    "\\sum_{i}^{k} E_{w_i \\sim P_n(w)}\n",
    "\\left[\n",
    "[ 1 - \\sigma(-ns_{i(t+q)}) ] \\cdot\n",
    "-v'_{w_i}\n",
    "\\right]\n",
    "$$\n",
    "\n",
    "$$\n",
    "\\nabla \\sum_{-c \\leq{q} \\leq{c},q\\neq{0}} \\log{p(w_t | w_{t+q})} =\n",
    "\\nabla \\log p(w_t | w_{t+q})\n",
    "$$"
   ]
  },
  {
   "cell_type": "markdown",
   "metadata": {},
   "source": [
    "```c\n",
    "        if (negative > 0) for (d = 0; d < negative + 1; d++) {\n",
    "          // target is w_O, w_i\n",
    "          if (d == 0) {\n",
    "            target = word;\n",
    "            label = 1;\n",
    "          } else { // random sample negative weight vector\n",
    "            next_random = next_random * (unsigned long long)25214903917 + 11;\n",
    "            target = table[(next_random >> 16) % table_size];\n",
    "            if (target == 0) target = next_random % (vocab_size - 1) + 1;\n",
    "            if (target == word) continue;\n",
    "            label = 0;\n",
    "          }\n",
    "          l2 = target * layer1_size;\n",
    "          f = 0;\n",
    "          // caculate ns\n",
    "          // syn1neg[l2] is v', neu1 is v_mcw\n",
    "          for (c = 0; c < layer1_size; c++) f += neu1[c] * syn1neg[c + l2];\n",
    "          // caculate gradient\n",
    "          if (f > MAX_EXP) g = (label - 1) * alpha;\n",
    "          else if (f < -MAX_EXP) g = (label - 0) * alpha;\n",
    "          // \\sigma(x) = 1 - \\sigma(-x), and 0 label for -ns\n",
    "          else g = (label - expTable[(int)((f + MAX_EXP) * (EXP_TABLE_SIZE / MAX_EXP / 2))]) * alpha;\n",
    "          // neu1e is added weight vector for each w_{t+q}\n",
    "          for (c = 0; c < layer1_size; c++) neu1e[c] += g * syn1neg[c + l2];\n",
    "          // update v'\n",
    "          for (c = 0; c < layer1_size; c++) syn1neg[c + l2] += g * neu1[c];\n",
    "        }\n",
    "```"
   ]
  },
  {
   "cell_type": "markdown",
   "metadata": {},
   "source": [
    "The code uses $v_{mcw}$ in place of $v_{w_{t+q}}$\n",
    "\n",
    "$$\n",
    "ns_{x(t+q)} = {v'_{w_x}}^T \\cdot v_{mcw}\n",
    "$$\n",
    "\n",
    "$w_x \\in \\{ w_t, w_i \\sim P_n(w) \\}$, $q \\in [-c, c], q\\neq{0}$"
   ]
  },
  {
   "cell_type": "markdown",
   "metadata": {},
   "source": [
    "the gradient of ${v'_{w_x}},\\, w_x \\in \\{ w_t, w_i \\sim P_n(w) \\}$ is caculated as:\n",
    "\n",
    "$$\n",
    "\\nabla \\sum_{-c \\leq{q} \\leq{c},q\\neq{0}} \\log{p(w_t | w_{t+q})} = cw \\cdot\n",
    "[ 1 - \\sigma(\\pm ns_{x(mcw)} ) ]\n",
    "\\cdot\n",
    "\\pm v_{w_{mcw}}\n",
    "$$\n",
    "\n",
    "The code doesn't multiply `\"cw\"`"
   ]
  },
  {
   "cell_type": "markdown",
   "metadata": {},
   "source": [
    "Because the equation $ \\sigma(x) = 1 - \\sigma(-x)$, \n",
    "\n",
    "the gradient of ${v'_{w_x}},\\, w_x \\in \\{ w_t, w_i \\sim P_n(w) \\}$ is caculated as:\n",
    "\n",
    "$$\n",
    "\\nabla \\sum_{-c \\leq{q} \\leq{c},q\\neq{0}} \\log{p(w_t | w_{t+q})} =\n",
    "  \\begin{cases}\n",
    "    - \\sigma( ns_{x(mcw)} ) \\cdot v_{w_{mcw}}       & \\quad \\text{if } -ns_{x(mcw)} \\\\\n",
    "    [ 1 - \\sigma(ns_{x(mcw)} ) ] \\cdot v_{w_{mcw}}  & \\quad \\text{if } ns_{x(mcw)} \\\\\n",
    "  \\end{cases}\n",
    "$$\n",
    "\n",
    "The code above uses `\"label = 0\"` to caculate the gradient of $v'_{w_t}$,\n",
    "`\"label = 1\"` to caculate the gradient of $v'_{w_i}$,\n"
   ]
  },
  {
   "cell_type": "markdown",
   "metadata": {},
   "source": [
    "The gradient of $ v_{w_{t+q}} $ is caculated as:\n",
    "\n",
    "$$\n",
    "\\nabla \\sum_{-c \\leq{q} \\leq{c},q\\neq{0}} \\log p(w_t | w_{t+q}) =\n",
    "[ 1 - \\sigma(ns_{x(mcw)} ) ] \\cdot v_{w_{mcw}}\n",
    "+\n",
    "\\sum_{i}^{k} E_{w_i \\sim P_n(w)}\n",
    "\\left[\n",
    "- \\sigma( ns_{x(mcw)} ) \\cdot v_{w_{mcw}}\n",
    "\\right]\n",
    "$$\n"
   ]
  },
  {
   "cell_type": "markdown",
   "metadata": {},
   "source": [
    "```python\n",
    "for (c = 0; c < layer1_size; c++) neu1e[c] += g * syn1[c + l2];\n",
    "```\n",
    "caculates the gradient of $ v_{w_{t+q}} $ for each $q \\in [-c, c], q\\neq{0}$\n",
    "\n",
    "After `for loop \"neu1e\"` is the added weight vector for each $v_{w_{t+q}}$."
   ]
  },
  {
   "cell_type": "markdown",
   "metadata": {},
   "source": [
    "####  finally updates $ v_{w_{t+q}} $ for each $q \\in [-c, c], q\\neq{0}$"
   ]
  },
  {
   "cell_type": "markdown",
   "metadata": {},
   "source": [
    "```c\n",
    "        // hidden -> in\n",
    "        for (a = b; a < window * 2 + 1 - b; a++) if (a != window) {\n",
    "          c = sentence_position - window + a;\n",
    "          if (c < 0) continue;\n",
    "          if (c >= sentence_length) continue;\n",
    "          last_word = sen[c];\n",
    "          if (last_word == -1) continue;\n",
    "          for (c = 0; c < layer1_size; c++) syn0[c + last_word * layer1_size] += neu1e[c];\n",
    "        }\n",
    "```"
   ]
  },
  {
   "cell_type": "markdown",
   "metadata": {},
   "source": [
    "From the code above we can see that when updates each $v_{w_{t+q}}$, it uses the same vector `\"neu1e\"`"
   ]
  },
  {
   "cell_type": "markdown",
   "metadata": {},
   "source": [
    "### skip-gram"
   ]
  },
  {
   "cell_type": "code",
   "execution_count": 10,
   "metadata": {
    "collapsed": false
   },
   "outputs": [
    {
     "data": {
      "image/png": "[encoded data removed]",
      "text/plain": [
       "<IPython.core.display.Image object>"
      ]
     },
     "execution_count": 10,
     "metadata": {},
     "output_type": "execute_result"
    }
   ],
   "source": [
    "from IPython.display import Image\n",
    "\n",
    "Image(\"./skip-gram.png\")"
   ]
  },
  {
   "cell_type": "markdown",
   "metadata": {},
   "source": [
    "#### maximize the following average log probability:"
   ]
  },
  {
   "cell_type": "markdown",
   "metadata": {},
   "source": [
    "(4)\n",
    "$$ \\frac{1}{T} \\sum_{t=1}^{T} \\sum_{-c \\leq{j} \\leq{c},j\\neq{0}} \\log{p(w_{t+j} | w_t)} $$"
   ]
  },
  {
   "cell_type": "markdown",
   "metadata": {},
   "source": [
    "Same reason, I change the index $j$ to index $q$ due to conflict with index $j$ in hierarchical softmax.\n",
    "\n",
    "(4)\n",
    "$$ \\frac{1}{T} \\sum_{t=1}^{T} \\sum_{-c \\leq{q} \\leq{c}, q\\neq{0}} \\log{p(w_{t+q} | w_t)} $$"
   ]
  },
  {
   "cell_type": "markdown",
   "metadata": {},
   "source": [
    "The most difference between skip-gram and continuous bag of words in the code is\n",
    "that when train skip-gram, updates the weight vectors for every window word."
   ]
  },
  {
   "cell_type": "markdown",
   "metadata": {
    "collapsed": true
   },
   "source": [
    "*Actually, these equations exchange $w_{t+q}$ with $w_t$,*\n",
    "*and don't use $\\sum_{-c \\leq{q} \\leq{c}, q\\neq{0}} \\log{p(w_{t+q} | w_t)}$ as \"y\"*"
   ]
  },
  {
   "cell_type": "markdown",
   "metadata": {},
   "source": [
    "#### when using hierarchical softmax"
   ]
  },
  {
   "cell_type": "markdown",
   "metadata": {},
   "source": [
    "$w_{t+q}$ is $w$, $w_{t}$ is $w_I$ in equation(1)"
   ]
  },
  {
   "cell_type": "markdown",
   "metadata": {},
   "source": [
    "And\n",
    "\n",
    "$$\n",
    "hs_j = [\\![ n(w_{t+q}, j+1) = ch(n(w_{t+q}, j)) ]\\!] \\cdot {v'_{n(w_{t+q}, j)}}^T v_{w_t}\n",
    "$$\n",
    "\n",
    "$q \\in [-c, c], q\\neq{0}$"
   ]
  },
  {
   "cell_type": "markdown",
   "metadata": {},
   "source": [
    "Then\n",
    "\n",
    "When update $ v_{w_t}$, we got gradient is:\n",
    "\n",
    "$$\n",
    "\\nabla \\log p(w_{t+q} | w_t) = \\sum_{j=1}^{L(w_{t+q})-1}\n",
    "[ 1 - \\sigma (hs_j) ] \\cdot\n",
    "[\\![ n(w_{t+q}, j+1) = ch(n(w_{t+q}, j)) ]\\!]\n",
    "\\cdot v'_{n(w_{t+q}, j)}\n",
    "$$"
   ]
  },
  {
   "cell_type": "markdown",
   "metadata": {},
   "source": [
    "When update $ v'_{n(w_{t+q}, j)}$ for each $j \\in [1, L(w_{t+q})-1]$, we got gradient is:\n",
    "\n",
    "$$\n",
    "\\nabla \\log p(w_{t+q} | w_t) = [ 1 - \\sigma (hs_j) ]\n",
    "\\cdot\n",
    "[\\![ n(w_{t+q}, j+1) = ch(n(w_{t+q}, j)) ]\\!]\n",
    "\\cdot\n",
    "v_{w_t}\n",
    "$$\n",
    "\n",
    " $q \\in [-c, c], q\\neq{0}$"
   ]
  },
  {
   "cell_type": "markdown",
   "metadata": {},
   "source": [
    "##### But, the code actually uses cbow model\n",
    "The word2vec C implementation doesn't use these gradients of skip-gram.\n",
    "\n",
    "Tt actually uses continuous bag of words model, when you require that\n",
    "train using skip-gram.\n",
    "\n",
    "I don't know why."
   ]
  },
  {
   "cell_type": "markdown",
   "metadata": {},
   "source": [
    "```c\n",
    "        if (hs) for (d = 0; d < vocab[word].codelen; d++) {\n",
    "          f = 0;\n",
    "          l2 = vocab[word].point[d] * layer1_size;\n",
    "          // Propagate hidden -> output\n",
    "          // l1 is w_{t+q}, l2 is n(w_t, j)\n",
    "          for (c = 0; c < layer1_size; c++) f += syn0[c + l1] * syn1[c + l2];\n",
    "          if (f <= -MAX_EXP) continue;\n",
    "          else if (f >= MAX_EXP) continue;\n",
    "          else f = expTable[(int)((f + MAX_EXP) * (EXP_TABLE_SIZE / MAX_EXP / 2))];\n",
    "          // 'g' is the gradient multiplied by the learning rate\n",
    "          g = (1 - vocab[word].code[d] - f) * alpha;\n",
    "          // Propagate errors output -> hidden\n",
    "          for (c = 0; c < layer1_size; c++) neu1e[c] += g * syn1[c + l2];\n",
    "          // Learn weights hidden -> output\n",
    "          for (c = 0; c < layer1_size; c++) syn1[c + l2] += g * syn0[c + l1];\n",
    "        }\n",
    "```"
   ]
  },
  {
   "cell_type": "markdown",
   "metadata": {},
   "source": [
    "The code in the above is same as train continuous bag of words model, except that it replaces\n",
    "`\"neu1[c]\"`  with `\"syn0[c + l1]\"`.\n",
    "\n",
    "The gradients used are hierarchical softmax of CBOW, so actually train cbow model."
   ]
  },
  {
   "cell_type": "markdown",
   "metadata": {},
   "source": [
    "#### when using negative sampling"
   ]
  },
  {
   "cell_type": "markdown",
   "metadata": {},
   "source": [
    "$w_{t+q} is\\, w_O$, $w_t is\\, w_I$ in equation(2)"
   ]
  },
  {
   "cell_type": "markdown",
   "metadata": {},
   "source": [
    "And\n",
    "\n",
    "$$\n",
    "ns_{xt} = {v'_{w_x}}^T \\cdot v_{w_t}\n",
    "$$\n",
    "\n",
    "$w_x \\in \\{ w_{t+q}, w_i \\sim P_n(w) \\}$, $q \\in [-c, c], q\\neq{0}$"
   ]
  },
  {
   "cell_type": "markdown",
   "metadata": {},
   "source": [
    "Then\n",
    "\n",
    "When update $ v'_{w_{t+q}}$ for each $q \\in [-c, c], q\\neq{0}$, we got gradient is:\n",
    "\n",
    "$$\n",
    "\\nabla \\log p(w_{t+q} | w_t) = [ 1 - \\sigma(ns_{(t+q)t}) ] \\cdot v_{w_t}\n",
    "$$"
   ]
  },
  {
   "cell_type": "markdown",
   "metadata": {},
   "source": [
    "When update $ v'_{w_i}, w_i \\sim P_n{w} $, we got gradient is:\n",
    "\n",
    "$$\n",
    "\\nabla \\log p(w_{t+q} | w_t) = [ 1 - \\sigma(-ns_{it}) ] \\cdot -v_{w_t}\n",
    "$$\n"
   ]
  },
  {
   "cell_type": "markdown",
   "metadata": {},
   "source": [
    "When update $ v_{w_t}$ we got gradient is:\n",
    "\n",
    "$$\n",
    "\\nabla \\log p(w_{t+q} | w_t) = [ 1 - \\sigma(ns_{(t+q)t}) ] \\cdot v'_{w_{t+q}}\n",
    "+\n",
    "\\sum_{i}^{k} E_{w_i \\sim P_n(w)}\n",
    "\\left[\n",
    "[ 1 - \\sigma(-ns_{it}) ] \\cdot\n",
    "-v'_{w_i}\n",
    "\\right]\n",
    "$$"
   ]
  },
  {
   "cell_type": "markdown",
   "metadata": {},
   "source": [
    "##### But, the code again uses cbow model\n",
    "The word2vec C implementation doesn't use these negative sample gradients of skip-gram.\n",
    "\n",
    "Tt actually uses continuous bag of words model, when you require that\n",
    "train using skip-gram."
   ]
  },
  {
   "cell_type": "markdown",
   "metadata": {},
   "source": [
    "```c\n",
    "        if (negative > 0) for (d = 0; d < negative + 1; d++) {\n",
    "          if (d == 0) {\n",
    "            target = word;\n",
    "            // should target = last_word;\n",
    "            label = 1;\n",
    "          } else {\n",
    "            next_random = next_random * (unsigned long long)25214903917 + 11;\n",
    "            target = table[(next_random >> 16) % table_size];\n",
    "            if (target == 0) target = next_random % (vocab_size - 1) + 1;\n",
    "            if (target == word) continue;\n",
    "            label = 0;\n",
    "          }\n",
    "          l2 = target * layer1_size;\n",
    "          f = 0;\n",
    "          // l1 is w_{t+q}, l2 is in [w_t, w_i \\sim P_n(w)]\n",
    "          // l1 should be w_t\n",
    "          for (c = 0; c < layer1_size; c++) f += syn0[c + l1] * syn1neg[c + l2];\n",
    "          if (f > MAX_EXP) g = (label - 1) * alpha;\n",
    "          else if (f < -MAX_EXP) g = (label - 0) * alpha;\n",
    "          else g = (label - expTable[(int)((f + MAX_EXP) * (EXP_TABLE_SIZE / MAX_EXP / 2))]) * alpha;\n",
    "          for (c = 0; c < layer1_size; c++) neu1e[c] += g * syn1neg[c + l2];\n",
    "          for (c = 0; c < layer1_size; c++) syn1neg[c + l2] += g * syn0[c + l1];\n",
    "        }\n",
    "```"
   ]
  },
  {
   "cell_type": "markdown",
   "metadata": {},
   "source": [
    "Again the code in the above is same as train continuous bag of words model, except that it replaces\n",
    "`\"neu1[c]\"`  with `\"syn0[c + l1]\"`.\n",
    "\n",
    "The gradients used are hierarchical softmax of CBOW, so actually train cbow model."
   ]
  },
  {
   "cell_type": "markdown",
   "metadata": {},
   "source": [
    "####  finally updates $ v_{w_{t+q}} $ for each $q \\in [-c, c], q\\neq{0}$"
   ]
  },
  {
   "cell_type": "markdown",
   "metadata": {},
   "source": [
    "```c\n",
    "for (c = 0; c < layer1_size; c++) syn0[c + l1] += neu1e[c];\n",
    "```"
   ]
  },
  {
   "cell_type": "markdown",
   "metadata": {},
   "source": [
    "*But it should update $v_{w_t}$*"
   ]
  },
  {
   "cell_type": "markdown",
   "metadata": {},
   "source": [
    "### Implementation"
   ]
  },
  {
   "cell_type": "markdown",
   "metadata": {},
   "source": [
    "famous implementations have:\n",
    "- [C](https://code.google.com/p/word2vec/)\n",
    "- [Python](http://radimrehurek.com/gensim/)\n",
    "- [Java/Scala](http://deeplearning4j.org/word2vec.html)\n",
    "    "
   ]
  },
  {
   "cell_type": "markdown",
   "metadata": {},
   "source": [
    "### Future works"
   ]
  },
  {
   "cell_type": "markdown",
   "metadata": {},
   "source": [
    "I plan to implement a C++ version word2vec using correct gradients in recent weeks."
   ]
  },
  {
   "cell_type": "markdown",
   "metadata": {},
   "source": [
    "### Conclusion"
   ]
  },
  {
   "cell_type": "markdown",
   "metadata": {},
   "source": [
    "Word2vec is a powerful way to model languages.\n",
    "\n",
    "But the original C implemetation doesn't use correct gradients for skip-gram model,\n",
    "neither does Gensim.\n",
    "\n",
    "I have not watch the word2vec implementation of Deeplearning4j,\n",
    "so I can't give a conclusion."
   ]
  },
  {
   "cell_type": "markdown",
   "metadata": {},
   "source": [
    "#### References"
   ]
  },
  {
   "cell_type": "markdown",
   "metadata": {},
   "source": [
    "Some papers:\n",
    "1. Tomas Mikolov, Kai Chen, Greg Corrado, and Jeffrey Dean. \n",
    "    Efficient Estimation of Word Representations in Vector Space. In Proceedings of Workshop at ICLR, 2013.\n",
    "2. Tomas Mikolov, Ilya Sutskever, Kai Chen, Greg Corrado, and Jeffrey Dean.\n",
    "    Distributed Representations of Words and Phrases and their Compositionality. In Proceedings of NIPS, 2013.\n",
    "\n",
    "Other useful urls:\n",
    "1. [Another word2vec parameter learning explanation](http://arxiv.org/abs/1411.2738)(not read)\n",
    "2. [My fork of C word2vec implementation](https://github.com/junfenglx/word2vec)"
   ]
  },
  {
   "cell_type": "code",
   "execution_count": null,
   "metadata": {
    "collapsed": true
   },
   "outputs": [],
   "source": []
  }
 ],
 "metadata": {
  "kernelspec": {
   "display_name": "Python 3",
   "language": "python",
   "name": "python3"
  },
  "language_info": {
   "codemirror_mode": {
    "name": "ipython",
    "version": 3
   },
   "file_extension": ".py",
   "mimetype": "text/x-python",
   "name": "python",
   "nbconvert_exporter": "python",
   "pygments_lexer": "ipython3",
   "version": "3.5.1"
  }
 },
 "nbformat": 4,
 "nbformat_minor": 0
}
